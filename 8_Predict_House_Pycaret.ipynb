{
 "cells": [
  {
   "cell_type": "code",
   "execution_count": 2,
   "metadata": {
    "id": "PGgKrByIw7dm"
   },
   "outputs": [],
   "source": [
    "#pip install pycaret"
   ]
  },
  {
   "cell_type": "code",
   "execution_count": 2,
   "metadata": {
    "id": "SpvCczaCxPfe"
   },
   "outputs": [],
   "source": [
    "\n",
    "import pandas as pd\n"
   ]
  },
  {
   "cell_type": "code",
   "execution_count": 3,
   "metadata": {
    "id": "QtKVcxCaxjcy"
   },
   "outputs": [],
   "source": [
    "df=pd.read_csv('data.csv')"
   ]
  },
  {
   "cell_type": "code",
   "execution_count": 4,
   "metadata": {},
   "outputs": [
    {
     "data": {
      "text/plain": [
       "(2919, 248)"
      ]
     },
     "execution_count": 4,
     "metadata": {},
     "output_type": "execute_result"
    }
   ],
   "source": [
    "df.shape"
   ]
  },
  {
   "cell_type": "code",
   "execution_count": 5,
   "metadata": {
    "id": "ndSL1tuDxnua"
   },
   "outputs": [],
   "source": [
    "train=df[:1460]\n",
    "test=df[1460:]"
   ]
  },
  {
   "cell_type": "code",
   "execution_count": 6,
   "metadata": {
    "id": "RRVSZQ85xzqR"
   },
   "outputs": [],
   "source": [
    "y=train[\"SalePrice\"]\n",
    "x=train.drop(\"SalePrice\", axis=1)"
   ]
  },
  {
   "cell_type": "code",
   "execution_count": 7,
   "metadata": {
    "id": "JaMZiKTsx31j"
   },
   "outputs": [],
   "source": [
    "from pycaret.regression import*"
   ]
  },
  {
   "cell_type": "code",
   "execution_count": 8,
   "metadata": {
    "colab": {
     "base_uri": "https://localhost:8080/",
     "height": 662
    },
    "id": "WhNtHAN8x-Hj",
    "outputId": "5464d156-30a6-42cf-800b-fc4042e75eea"
   },
   "outputs": [
    {
     "data": {
      "text/html": [
       "<style type=\"text/css\">\n",
       "#T_ec5d2_row8_col1 {\n",
       "  background-color: lightgreen;\n",
       "}\n",
       "</style>\n",
       "<table id=\"T_ec5d2\" class=\"dataframe\">\n",
       "  <thead>\n",
       "    <tr>\n",
       "      <th class=\"blank level0\" >&nbsp;</th>\n",
       "      <th id=\"T_ec5d2_level0_col0\" class=\"col_heading level0 col0\" >Description</th>\n",
       "      <th id=\"T_ec5d2_level0_col1\" class=\"col_heading level0 col1\" >Value</th>\n",
       "    </tr>\n",
       "  </thead>\n",
       "  <tbody>\n",
       "    <tr>\n",
       "      <th id=\"T_ec5d2_level0_row0\" class=\"row_heading level0 row0\" >0</th>\n",
       "      <td id=\"T_ec5d2_row0_col0\" class=\"data row0 col0\" >Session id</td>\n",
       "      <td id=\"T_ec5d2_row0_col1\" class=\"data row0 col1\" >3822</td>\n",
       "    </tr>\n",
       "    <tr>\n",
       "      <th id=\"T_ec5d2_level0_row1\" class=\"row_heading level0 row1\" >1</th>\n",
       "      <td id=\"T_ec5d2_row1_col0\" class=\"data row1 col0\" >Target</td>\n",
       "      <td id=\"T_ec5d2_row1_col1\" class=\"data row1 col1\" >SalePrice</td>\n",
       "    </tr>\n",
       "    <tr>\n",
       "      <th id=\"T_ec5d2_level0_row2\" class=\"row_heading level0 row2\" >2</th>\n",
       "      <td id=\"T_ec5d2_row2_col0\" class=\"data row2 col0\" >Target type</td>\n",
       "      <td id=\"T_ec5d2_row2_col1\" class=\"data row2 col1\" >Regression</td>\n",
       "    </tr>\n",
       "    <tr>\n",
       "      <th id=\"T_ec5d2_level0_row3\" class=\"row_heading level0 row3\" >3</th>\n",
       "      <td id=\"T_ec5d2_row3_col0\" class=\"data row3 col0\" >Original data shape</td>\n",
       "      <td id=\"T_ec5d2_row3_col1\" class=\"data row3 col1\" >(1460, 248)</td>\n",
       "    </tr>\n",
       "    <tr>\n",
       "      <th id=\"T_ec5d2_level0_row4\" class=\"row_heading level0 row4\" >4</th>\n",
       "      <td id=\"T_ec5d2_row4_col0\" class=\"data row4 col0\" >Transformed data shape</td>\n",
       "      <td id=\"T_ec5d2_row4_col1\" class=\"data row4 col1\" >(1460, 248)</td>\n",
       "    </tr>\n",
       "    <tr>\n",
       "      <th id=\"T_ec5d2_level0_row5\" class=\"row_heading level0 row5\" >5</th>\n",
       "      <td id=\"T_ec5d2_row5_col0\" class=\"data row5 col0\" >Transformed train set shape</td>\n",
       "      <td id=\"T_ec5d2_row5_col1\" class=\"data row5 col1\" >(1021, 248)</td>\n",
       "    </tr>\n",
       "    <tr>\n",
       "      <th id=\"T_ec5d2_level0_row6\" class=\"row_heading level0 row6\" >6</th>\n",
       "      <td id=\"T_ec5d2_row6_col0\" class=\"data row6 col0\" >Transformed test set shape</td>\n",
       "      <td id=\"T_ec5d2_row6_col1\" class=\"data row6 col1\" >(439, 248)</td>\n",
       "    </tr>\n",
       "    <tr>\n",
       "      <th id=\"T_ec5d2_level0_row7\" class=\"row_heading level0 row7\" >7</th>\n",
       "      <td id=\"T_ec5d2_row7_col0\" class=\"data row7 col0\" >Numeric features</td>\n",
       "      <td id=\"T_ec5d2_row7_col1\" class=\"data row7 col1\" >247</td>\n",
       "    </tr>\n",
       "    <tr>\n",
       "      <th id=\"T_ec5d2_level0_row8\" class=\"row_heading level0 row8\" >8</th>\n",
       "      <td id=\"T_ec5d2_row8_col0\" class=\"data row8 col0\" >Preprocess</td>\n",
       "      <td id=\"T_ec5d2_row8_col1\" class=\"data row8 col1\" >True</td>\n",
       "    </tr>\n",
       "    <tr>\n",
       "      <th id=\"T_ec5d2_level0_row9\" class=\"row_heading level0 row9\" >9</th>\n",
       "      <td id=\"T_ec5d2_row9_col0\" class=\"data row9 col0\" >Imputation type</td>\n",
       "      <td id=\"T_ec5d2_row9_col1\" class=\"data row9 col1\" >simple</td>\n",
       "    </tr>\n",
       "    <tr>\n",
       "      <th id=\"T_ec5d2_level0_row10\" class=\"row_heading level0 row10\" >10</th>\n",
       "      <td id=\"T_ec5d2_row10_col0\" class=\"data row10 col0\" >Numeric imputation</td>\n",
       "      <td id=\"T_ec5d2_row10_col1\" class=\"data row10 col1\" >mean</td>\n",
       "    </tr>\n",
       "    <tr>\n",
       "      <th id=\"T_ec5d2_level0_row11\" class=\"row_heading level0 row11\" >11</th>\n",
       "      <td id=\"T_ec5d2_row11_col0\" class=\"data row11 col0\" >Categorical imputation</td>\n",
       "      <td id=\"T_ec5d2_row11_col1\" class=\"data row11 col1\" >mode</td>\n",
       "    </tr>\n",
       "    <tr>\n",
       "      <th id=\"T_ec5d2_level0_row12\" class=\"row_heading level0 row12\" >12</th>\n",
       "      <td id=\"T_ec5d2_row12_col0\" class=\"data row12 col0\" >Fold Generator</td>\n",
       "      <td id=\"T_ec5d2_row12_col1\" class=\"data row12 col1\" >KFold</td>\n",
       "    </tr>\n",
       "    <tr>\n",
       "      <th id=\"T_ec5d2_level0_row13\" class=\"row_heading level0 row13\" >13</th>\n",
       "      <td id=\"T_ec5d2_row13_col0\" class=\"data row13 col0\" >Fold Number</td>\n",
       "      <td id=\"T_ec5d2_row13_col1\" class=\"data row13 col1\" >10</td>\n",
       "    </tr>\n",
       "    <tr>\n",
       "      <th id=\"T_ec5d2_level0_row14\" class=\"row_heading level0 row14\" >14</th>\n",
       "      <td id=\"T_ec5d2_row14_col0\" class=\"data row14 col0\" >CPU Jobs</td>\n",
       "      <td id=\"T_ec5d2_row14_col1\" class=\"data row14 col1\" >-1</td>\n",
       "    </tr>\n",
       "    <tr>\n",
       "      <th id=\"T_ec5d2_level0_row15\" class=\"row_heading level0 row15\" >15</th>\n",
       "      <td id=\"T_ec5d2_row15_col0\" class=\"data row15 col0\" >Use GPU</td>\n",
       "      <td id=\"T_ec5d2_row15_col1\" class=\"data row15 col1\" >False</td>\n",
       "    </tr>\n",
       "    <tr>\n",
       "      <th id=\"T_ec5d2_level0_row16\" class=\"row_heading level0 row16\" >16</th>\n",
       "      <td id=\"T_ec5d2_row16_col0\" class=\"data row16 col0\" >Log Experiment</td>\n",
       "      <td id=\"T_ec5d2_row16_col1\" class=\"data row16 col1\" >False</td>\n",
       "    </tr>\n",
       "    <tr>\n",
       "      <th id=\"T_ec5d2_level0_row17\" class=\"row_heading level0 row17\" >17</th>\n",
       "      <td id=\"T_ec5d2_row17_col0\" class=\"data row17 col0\" >Experiment Name</td>\n",
       "      <td id=\"T_ec5d2_row17_col1\" class=\"data row17 col1\" >reg-default-name</td>\n",
       "    </tr>\n",
       "    <tr>\n",
       "      <th id=\"T_ec5d2_level0_row18\" class=\"row_heading level0 row18\" >18</th>\n",
       "      <td id=\"T_ec5d2_row18_col0\" class=\"data row18 col0\" >USI</td>\n",
       "      <td id=\"T_ec5d2_row18_col1\" class=\"data row18 col1\" >ad43</td>\n",
       "    </tr>\n",
       "  </tbody>\n",
       "</table>\n"
      ],
      "text/plain": [
       "<pandas.io.formats.style.Styler at 0x7fa4aab0c3d0>"
      ]
     },
     "metadata": {},
     "output_type": "display_data"
    },
    {
     "data": {
      "text/plain": [
       "<pycaret.regression.oop.RegressionExperiment at 0x7fa4bd9baf50>"
      ]
     },
     "execution_count": 8,
     "metadata": {},
     "output_type": "execute_result"
    }
   ],
   "source": [
    "setup(train,target='SalePrice')"
   ]
  },
  {
   "cell_type": "code",
   "execution_count": 9,
   "metadata": {
    "colab": {
     "base_uri": "https://localhost:8080/",
     "height": 1000,
     "referenced_widgets": [
      "1e410d676fc24699809b95b6a0203965",
      "f8305d22f0b441e783c46e37c9041462",
      "9ade394f851949429cbe4ac5305db6e3",
      "7a53b1397eee490cbf2da4b788ad6d22",
      "610caacaac484c27a1226500e99c3cef",
      "7f9fb72db26e4e1b9b2835462c2225df",
      "9a2e8d24ff4242969c51ceb2e1a98f7a",
      "979621d5346f413e87992cb7af461c92",
      "cfd2a33d41794cbd92505044e698ff57",
      "2244812d03df4920bc1198d9417ee266",
      "07873ec7623b4db69e3a2de9aef52e96"
     ]
    },
    "id": "X1MlGJpiyHwy",
    "outputId": "c5705385-407c-46eb-e847-549cd2d663d4"
   },
   "outputs": [
    {
     "data": {
      "text/html": [],
      "text/plain": [
       "<IPython.core.display.HTML object>"
      ]
     },
     "metadata": {},
     "output_type": "display_data"
    },
    {
     "data": {
      "text/html": [
       "<style type=\"text/css\">\n",
       "#T_a257f th {\n",
       "  text-align: left;\n",
       "}\n",
       "#T_a257f_row0_col0, #T_a257f_row1_col0, #T_a257f_row1_col1, #T_a257f_row1_col2, #T_a257f_row1_col3, #T_a257f_row1_col4, #T_a257f_row1_col5, #T_a257f_row1_col6, #T_a257f_row2_col0, #T_a257f_row2_col1, #T_a257f_row2_col2, #T_a257f_row2_col3, #T_a257f_row2_col4, #T_a257f_row2_col5, #T_a257f_row2_col6, #T_a257f_row3_col0, #T_a257f_row3_col1, #T_a257f_row3_col2, #T_a257f_row3_col3, #T_a257f_row3_col4, #T_a257f_row3_col5, #T_a257f_row3_col6, #T_a257f_row4_col0, #T_a257f_row4_col1, #T_a257f_row4_col2, #T_a257f_row4_col3, #T_a257f_row4_col4, #T_a257f_row4_col5, #T_a257f_row4_col6, #T_a257f_row5_col0, #T_a257f_row5_col1, #T_a257f_row5_col2, #T_a257f_row5_col3, #T_a257f_row5_col4, #T_a257f_row5_col5, #T_a257f_row5_col6, #T_a257f_row6_col0, #T_a257f_row6_col1, #T_a257f_row6_col2, #T_a257f_row6_col3, #T_a257f_row6_col4, #T_a257f_row6_col5, #T_a257f_row6_col6, #T_a257f_row7_col0, #T_a257f_row7_col1, #T_a257f_row7_col2, #T_a257f_row7_col3, #T_a257f_row7_col4, #T_a257f_row7_col5, #T_a257f_row7_col6, #T_a257f_row8_col0, #T_a257f_row8_col1, #T_a257f_row8_col2, #T_a257f_row8_col3, #T_a257f_row8_col4, #T_a257f_row8_col5, #T_a257f_row8_col6, #T_a257f_row9_col0, #T_a257f_row9_col1, #T_a257f_row9_col2, #T_a257f_row9_col3, #T_a257f_row9_col4, #T_a257f_row9_col5, #T_a257f_row9_col6, #T_a257f_row10_col0, #T_a257f_row10_col1, #T_a257f_row10_col2, #T_a257f_row10_col3, #T_a257f_row10_col4, #T_a257f_row10_col5, #T_a257f_row10_col6, #T_a257f_row11_col0, #T_a257f_row11_col1, #T_a257f_row11_col2, #T_a257f_row11_col3, #T_a257f_row11_col4, #T_a257f_row11_col5, #T_a257f_row11_col6, #T_a257f_row12_col0, #T_a257f_row12_col1, #T_a257f_row12_col2, #T_a257f_row12_col3, #T_a257f_row12_col4, #T_a257f_row12_col5, #T_a257f_row12_col6, #T_a257f_row13_col0, #T_a257f_row13_col1, #T_a257f_row13_col2, #T_a257f_row13_col3, #T_a257f_row13_col4, #T_a257f_row13_col5, #T_a257f_row13_col6, #T_a257f_row14_col0, #T_a257f_row14_col1, #T_a257f_row14_col2, #T_a257f_row14_col3, #T_a257f_row14_col4, #T_a257f_row14_col5, #T_a257f_row14_col6, #T_a257f_row15_col0, #T_a257f_row15_col1, #T_a257f_row15_col2, #T_a257f_row15_col3, #T_a257f_row15_col4, #T_a257f_row15_col5, #T_a257f_row15_col6, #T_a257f_row16_col0, #T_a257f_row16_col1, #T_a257f_row16_col2, #T_a257f_row16_col3, #T_a257f_row16_col4, #T_a257f_row16_col5, #T_a257f_row16_col6, #T_a257f_row17_col0, #T_a257f_row17_col1, #T_a257f_row17_col2, #T_a257f_row17_col3, #T_a257f_row17_col4, #T_a257f_row17_col5, #T_a257f_row17_col6, #T_a257f_row18_col0, #T_a257f_row18_col1, #T_a257f_row18_col2, #T_a257f_row18_col3, #T_a257f_row18_col4, #T_a257f_row18_col5, #T_a257f_row18_col6 {\n",
       "  text-align: left;\n",
       "}\n",
       "#T_a257f_row0_col1, #T_a257f_row0_col2, #T_a257f_row0_col3, #T_a257f_row0_col4, #T_a257f_row0_col5, #T_a257f_row0_col6 {\n",
       "  text-align: left;\n",
       "  background-color: yellow;\n",
       "}\n",
       "#T_a257f_row0_col7, #T_a257f_row1_col7, #T_a257f_row2_col7, #T_a257f_row3_col7, #T_a257f_row4_col7, #T_a257f_row5_col7, #T_a257f_row7_col7, #T_a257f_row8_col7, #T_a257f_row9_col7, #T_a257f_row10_col7, #T_a257f_row11_col7, #T_a257f_row12_col7, #T_a257f_row13_col7, #T_a257f_row14_col7, #T_a257f_row15_col7, #T_a257f_row16_col7, #T_a257f_row17_col7, #T_a257f_row18_col7 {\n",
       "  text-align: left;\n",
       "  background-color: lightgrey;\n",
       "}\n",
       "#T_a257f_row6_col7 {\n",
       "  text-align: left;\n",
       "  background-color: yellow;\n",
       "  background-color: lightgrey;\n",
       "}\n",
       "</style>\n",
       "<table id=\"T_a257f\" class=\"dataframe\">\n",
       "  <thead>\n",
       "    <tr>\n",
       "      <th class=\"blank level0\" >&nbsp;</th>\n",
       "      <th id=\"T_a257f_level0_col0\" class=\"col_heading level0 col0\" >Model</th>\n",
       "      <th id=\"T_a257f_level0_col1\" class=\"col_heading level0 col1\" >MAE</th>\n",
       "      <th id=\"T_a257f_level0_col2\" class=\"col_heading level0 col2\" >MSE</th>\n",
       "      <th id=\"T_a257f_level0_col3\" class=\"col_heading level0 col3\" >RMSE</th>\n",
       "      <th id=\"T_a257f_level0_col4\" class=\"col_heading level0 col4\" >R2</th>\n",
       "      <th id=\"T_a257f_level0_col5\" class=\"col_heading level0 col5\" >RMSLE</th>\n",
       "      <th id=\"T_a257f_level0_col6\" class=\"col_heading level0 col6\" >MAPE</th>\n",
       "      <th id=\"T_a257f_level0_col7\" class=\"col_heading level0 col7\" >TT (Sec)</th>\n",
       "    </tr>\n",
       "  </thead>\n",
       "  <tbody>\n",
       "    <tr>\n",
       "      <th id=\"T_a257f_level0_row0\" class=\"row_heading level0 row0\" >gbr</th>\n",
       "      <td id=\"T_a257f_row0_col0\" class=\"data row0 col0\" >Gradient Boosting Regressor</td>\n",
       "      <td id=\"T_a257f_row0_col1\" class=\"data row0 col1\" >16939.1583</td>\n",
       "      <td id=\"T_a257f_row0_col2\" class=\"data row0 col2\" >814364398.3288</td>\n",
       "      <td id=\"T_a257f_row0_col3\" class=\"data row0 col3\" >27817.7600</td>\n",
       "      <td id=\"T_a257f_row0_col4\" class=\"data row0 col4\" >0.8678</td>\n",
       "      <td id=\"T_a257f_row0_col5\" class=\"data row0 col5\" >0.1334</td>\n",
       "      <td id=\"T_a257f_row0_col6\" class=\"data row0 col6\" >0.0972</td>\n",
       "      <td id=\"T_a257f_row0_col7\" class=\"data row0 col7\" >1.1330</td>\n",
       "    </tr>\n",
       "    <tr>\n",
       "      <th id=\"T_a257f_level0_row1\" class=\"row_heading level0 row1\" >et</th>\n",
       "      <td id=\"T_a257f_row1_col0\" class=\"data row1 col0\" >Extra Trees Regressor</td>\n",
       "      <td id=\"T_a257f_row1_col1\" class=\"data row1 col1\" >17242.8985</td>\n",
       "      <td id=\"T_a257f_row1_col2\" class=\"data row1 col2\" >835585996.6985</td>\n",
       "      <td id=\"T_a257f_row1_col3\" class=\"data row1 col3\" >28168.5927</td>\n",
       "      <td id=\"T_a257f_row1_col4\" class=\"data row1 col4\" >0.8629</td>\n",
       "      <td id=\"T_a257f_row1_col5\" class=\"data row1 col5\" >0.1405</td>\n",
       "      <td id=\"T_a257f_row1_col6\" class=\"data row1 col6\" >0.1015</td>\n",
       "      <td id=\"T_a257f_row1_col7\" class=\"data row1 col7\" >2.1270</td>\n",
       "    </tr>\n",
       "    <tr>\n",
       "      <th id=\"T_a257f_level0_row2\" class=\"row_heading level0 row2\" >lightgbm</th>\n",
       "      <td id=\"T_a257f_row2_col0\" class=\"data row2 col0\" >Light Gradient Boosting Machine</td>\n",
       "      <td id=\"T_a257f_row2_col1\" class=\"data row2 col1\" >17188.1768</td>\n",
       "      <td id=\"T_a257f_row2_col2\" class=\"data row2 col2\" >844066867.4779</td>\n",
       "      <td id=\"T_a257f_row2_col3\" class=\"data row2 col3\" >28446.7471</td>\n",
       "      <td id=\"T_a257f_row2_col4\" class=\"data row2 col4\" >0.8568</td>\n",
       "      <td id=\"T_a257f_row2_col5\" class=\"data row2 col5\" >0.1361</td>\n",
       "      <td id=\"T_a257f_row2_col6\" class=\"data row2 col6\" >0.0991</td>\n",
       "      <td id=\"T_a257f_row2_col7\" class=\"data row2 col7\" >0.5160</td>\n",
       "    </tr>\n",
       "    <tr>\n",
       "      <th id=\"T_a257f_level0_row3\" class=\"row_heading level0 row3\" >rf</th>\n",
       "      <td id=\"T_a257f_row3_col0\" class=\"data row3 col0\" >Random Forest Regressor</td>\n",
       "      <td id=\"T_a257f_row3_col1\" class=\"data row3 col1\" >18219.2049</td>\n",
       "      <td id=\"T_a257f_row3_col2\" class=\"data row3 col2\" >915985493.9082</td>\n",
       "      <td id=\"T_a257f_row3_col3\" class=\"data row3 col3\" >29637.8263</td>\n",
       "      <td id=\"T_a257f_row3_col4\" class=\"data row3 col4\" >0.8477</td>\n",
       "      <td id=\"T_a257f_row3_col5\" class=\"data row3 col5\" >0.1459</td>\n",
       "      <td id=\"T_a257f_row3_col6\" class=\"data row3 col6\" >0.1065</td>\n",
       "      <td id=\"T_a257f_row3_col7\" class=\"data row3 col7\" >2.8830</td>\n",
       "    </tr>\n",
       "    <tr>\n",
       "      <th id=\"T_a257f_level0_row4\" class=\"row_heading level0 row4\" >xgboost</th>\n",
       "      <td id=\"T_a257f_row4_col0\" class=\"data row4 col0\" >Extreme Gradient Boosting</td>\n",
       "      <td id=\"T_a257f_row4_col1\" class=\"data row4 col1\" >19038.1253</td>\n",
       "      <td id=\"T_a257f_row4_col2\" class=\"data row4 col2\" >1118795079.6192</td>\n",
       "      <td id=\"T_a257f_row4_col3\" class=\"data row4 col3\" >32349.4877</td>\n",
       "      <td id=\"T_a257f_row4_col4\" class=\"data row4 col4\" >0.8209</td>\n",
       "      <td id=\"T_a257f_row4_col5\" class=\"data row4 col5\" >0.1519</td>\n",
       "      <td id=\"T_a257f_row4_col6\" class=\"data row4 col6\" >0.1082</td>\n",
       "      <td id=\"T_a257f_row4_col7\" class=\"data row4 col7\" >1.5560</td>\n",
       "    </tr>\n",
       "    <tr>\n",
       "      <th id=\"T_a257f_level0_row5\" class=\"row_heading level0 row5\" >ada</th>\n",
       "      <td id=\"T_a257f_row5_col0\" class=\"data row5 col0\" >AdaBoost Regressor</td>\n",
       "      <td id=\"T_a257f_row5_col1\" class=\"data row5 col1\" >23239.7181</td>\n",
       "      <td id=\"T_a257f_row5_col2\" class=\"data row5 col2\" >1242801690.0429</td>\n",
       "      <td id=\"T_a257f_row5_col3\" class=\"data row5 col3\" >34682.2095</td>\n",
       "      <td id=\"T_a257f_row5_col4\" class=\"data row5 col4\" >0.7849</td>\n",
       "      <td id=\"T_a257f_row5_col5\" class=\"data row5 col5\" >0.1862</td>\n",
       "      <td id=\"T_a257f_row5_col6\" class=\"data row5 col6\" >0.1458</td>\n",
       "      <td id=\"T_a257f_row5_col7\" class=\"data row5 col7\" >0.5150</td>\n",
       "    </tr>\n",
       "    <tr>\n",
       "      <th id=\"T_a257f_level0_row6\" class=\"row_heading level0 row6\" >ridge</th>\n",
       "      <td id=\"T_a257f_row6_col0\" class=\"data row6 col0\" >Ridge Regression</td>\n",
       "      <td id=\"T_a257f_row6_col1\" class=\"data row6 col1\" >20053.8860</td>\n",
       "      <td id=\"T_a257f_row6_col2\" class=\"data row6 col2\" >1299847433.8152</td>\n",
       "      <td id=\"T_a257f_row6_col3\" class=\"data row6 col3\" >34196.9684</td>\n",
       "      <td id=\"T_a257f_row6_col4\" class=\"data row6 col4\" >0.7641</td>\n",
       "      <td id=\"T_a257f_row6_col5\" class=\"data row6 col5\" >0.1858</td>\n",
       "      <td id=\"T_a257f_row6_col6\" class=\"data row6 col6\" >0.1193</td>\n",
       "      <td id=\"T_a257f_row6_col7\" class=\"data row6 col7\" >0.0870</td>\n",
       "    </tr>\n",
       "    <tr>\n",
       "      <th id=\"T_a257f_level0_row7\" class=\"row_heading level0 row7\" >dt</th>\n",
       "      <td id=\"T_a257f_row7_col0\" class=\"data row7 col0\" >Decision Tree Regressor</td>\n",
       "      <td id=\"T_a257f_row7_col1\" class=\"data row7 col1\" >25727.9558</td>\n",
       "      <td id=\"T_a257f_row7_col2\" class=\"data row7 col2\" >1424627194.8545</td>\n",
       "      <td id=\"T_a257f_row7_col3\" class=\"data row7 col3\" >37417.9683</td>\n",
       "      <td id=\"T_a257f_row7_col4\" class=\"data row7 col4\" >0.7518</td>\n",
       "      <td id=\"T_a257f_row7_col5\" class=\"data row7 col5\" >0.1944</td>\n",
       "      <td id=\"T_a257f_row7_col6\" class=\"data row7 col6\" >0.1498</td>\n",
       "      <td id=\"T_a257f_row7_col7\" class=\"data row7 col7\" >0.1870</td>\n",
       "    </tr>\n",
       "    <tr>\n",
       "      <th id=\"T_a257f_level0_row8\" class=\"row_heading level0 row8\" >en</th>\n",
       "      <td id=\"T_a257f_row8_col0\" class=\"data row8 col0\" >Elastic Net</td>\n",
       "      <td id=\"T_a257f_row8_col1\" class=\"data row8 col1\" >20791.6929</td>\n",
       "      <td id=\"T_a257f_row8_col2\" class=\"data row8 col2\" >1539034292.4696</td>\n",
       "      <td id=\"T_a257f_row8_col3\" class=\"data row8 col3\" >37223.8587</td>\n",
       "      <td id=\"T_a257f_row8_col4\" class=\"data row8 col4\" >0.7203</td>\n",
       "      <td id=\"T_a257f_row8_col5\" class=\"data row8 col5\" >0.2256</td>\n",
       "      <td id=\"T_a257f_row8_col6\" class=\"data row8 col6\" >0.1201</td>\n",
       "      <td id=\"T_a257f_row8_col7\" class=\"data row8 col7\" >0.5470</td>\n",
       "    </tr>\n",
       "    <tr>\n",
       "      <th id=\"T_a257f_level0_row9\" class=\"row_heading level0 row9\" >omp</th>\n",
       "      <td id=\"T_a257f_row9_col0\" class=\"data row9 col0\" >Orthogonal Matching Pursuit</td>\n",
       "      <td id=\"T_a257f_row9_col1\" class=\"data row9 col1\" >23046.1443</td>\n",
       "      <td id=\"T_a257f_row9_col2\" class=\"data row9 col2\" >1595173487.3350</td>\n",
       "      <td id=\"T_a257f_row9_col3\" class=\"data row9 col3\" >38407.5749</td>\n",
       "      <td id=\"T_a257f_row9_col4\" class=\"data row9 col4\" >0.7143</td>\n",
       "      <td id=\"T_a257f_row9_col5\" class=\"data row9 col5\" >0.2315</td>\n",
       "      <td id=\"T_a257f_row9_col6\" class=\"data row9 col6\" >0.1374</td>\n",
       "      <td id=\"T_a257f_row9_col7\" class=\"data row9 col7\" >0.0910</td>\n",
       "    </tr>\n",
       "    <tr>\n",
       "      <th id=\"T_a257f_level0_row10\" class=\"row_heading level0 row10\" >knn</th>\n",
       "      <td id=\"T_a257f_row10_col0\" class=\"data row10 col0\" >K Neighbors Regressor</td>\n",
       "      <td id=\"T_a257f_row10_col1\" class=\"data row10 col1\" >28692.2877</td>\n",
       "      <td id=\"T_a257f_row10_col2\" class=\"data row10 col2\" >2042956283.5361</td>\n",
       "      <td id=\"T_a257f_row10_col3\" class=\"data row10 col3\" >44222.6398</td>\n",
       "      <td id=\"T_a257f_row10_col4\" class=\"data row10 col4\" >0.6632</td>\n",
       "      <td id=\"T_a257f_row10_col5\" class=\"data row10 col5\" >0.2163</td>\n",
       "      <td id=\"T_a257f_row10_col6\" class=\"data row10 col6\" >0.1666</td>\n",
       "      <td id=\"T_a257f_row10_col7\" class=\"data row10 col7\" >0.1670</td>\n",
       "    </tr>\n",
       "    <tr>\n",
       "      <th id=\"T_a257f_level0_row11\" class=\"row_heading level0 row11\" >huber</th>\n",
       "      <td id=\"T_a257f_row11_col0\" class=\"data row11 col0\" >Huber Regressor</td>\n",
       "      <td id=\"T_a257f_row11_col1\" class=\"data row11 col1\" >25386.4163</td>\n",
       "      <td id=\"T_a257f_row11_col2\" class=\"data row11 col2\" >1936418400.9438</td>\n",
       "      <td id=\"T_a257f_row11_col3\" class=\"data row11 col3\" >42499.8523</td>\n",
       "      <td id=\"T_a257f_row11_col4\" class=\"data row11 col4\" >0.6523</td>\n",
       "      <td id=\"T_a257f_row11_col5\" class=\"data row11 col5\" >0.2011</td>\n",
       "      <td id=\"T_a257f_row11_col6\" class=\"data row11 col6\" >0.1470</td>\n",
       "      <td id=\"T_a257f_row11_col7\" class=\"data row11 col7\" >0.3190</td>\n",
       "    </tr>\n",
       "    <tr>\n",
       "      <th id=\"T_a257f_level0_row12\" class=\"row_heading level0 row12\" >br</th>\n",
       "      <td id=\"T_a257f_row12_col0\" class=\"data row12 col0\" >Bayesian Ridge</td>\n",
       "      <td id=\"T_a257f_row12_col1\" class=\"data row12 col1\" >25214.8385</td>\n",
       "      <td id=\"T_a257f_row12_col2\" class=\"data row12 col2\" >1958708774.8836</td>\n",
       "      <td id=\"T_a257f_row12_col3\" class=\"data row12 col3\" >42727.3426</td>\n",
       "      <td id=\"T_a257f_row12_col4\" class=\"data row12 col4\" >0.6452</td>\n",
       "      <td id=\"T_a257f_row12_col5\" class=\"data row12 col5\" >0.2366</td>\n",
       "      <td id=\"T_a257f_row12_col6\" class=\"data row12 col6\" >0.1465</td>\n",
       "      <td id=\"T_a257f_row12_col7\" class=\"data row12 col7\" >0.1250</td>\n",
       "    </tr>\n",
       "    <tr>\n",
       "      <th id=\"T_a257f_level0_row13\" class=\"row_heading level0 row13\" >llar</th>\n",
       "      <td id=\"T_a257f_row13_col0\" class=\"data row13 col0\" >Lasso Least Angle Regression</td>\n",
       "      <td id=\"T_a257f_row13_col1\" class=\"data row13 col1\" >22544.0746</td>\n",
       "      <td id=\"T_a257f_row13_col2\" class=\"data row13 col2\" >1963205142.9443</td>\n",
       "      <td id=\"T_a257f_row13_col3\" class=\"data row13 col3\" >42346.9653</td>\n",
       "      <td id=\"T_a257f_row13_col4\" class=\"data row13 col4\" >0.6364</td>\n",
       "      <td id=\"T_a257f_row13_col5\" class=\"data row13 col5\" >0.1921</td>\n",
       "      <td id=\"T_a257f_row13_col6\" class=\"data row13 col6\" >0.1331</td>\n",
       "      <td id=\"T_a257f_row13_col7\" class=\"data row13 col7\" >0.1480</td>\n",
       "    </tr>\n",
       "    <tr>\n",
       "      <th id=\"T_a257f_level0_row14\" class=\"row_heading level0 row14\" >lasso</th>\n",
       "      <td id=\"T_a257f_row14_col0\" class=\"data row14 col0\" >Lasso Regression</td>\n",
       "      <td id=\"T_a257f_row14_col1\" class=\"data row14 col1\" >20093.8900</td>\n",
       "      <td id=\"T_a257f_row14_col2\" class=\"data row14 col2\" >2322442066.6647</td>\n",
       "      <td id=\"T_a257f_row14_col3\" class=\"data row14 col3\" >42806.2642</td>\n",
       "      <td id=\"T_a257f_row14_col4\" class=\"data row14 col4\" >0.6084</td>\n",
       "      <td id=\"T_a257f_row14_col5\" class=\"data row14 col5\" >0.2066</td>\n",
       "      <td id=\"T_a257f_row14_col6\" class=\"data row14 col6\" >0.1205</td>\n",
       "      <td id=\"T_a257f_row14_col7\" class=\"data row14 col7\" >0.3570</td>\n",
       "    </tr>\n",
       "    <tr>\n",
       "      <th id=\"T_a257f_level0_row15\" class=\"row_heading level0 row15\" >lr</th>\n",
       "      <td id=\"T_a257f_row15_col0\" class=\"data row15 col0\" >Linear Regression</td>\n",
       "      <td id=\"T_a257f_row15_col1\" class=\"data row15 col1\" >20346.6030</td>\n",
       "      <td id=\"T_a257f_row15_col2\" class=\"data row15 col2\" >2418908988.6257</td>\n",
       "      <td id=\"T_a257f_row15_col3\" class=\"data row15 col3\" >43629.9099</td>\n",
       "      <td id=\"T_a257f_row15_col4\" class=\"data row15 col4\" >0.5915</td>\n",
       "      <td id=\"T_a257f_row15_col5\" class=\"data row15 col5\" >0.2279</td>\n",
       "      <td id=\"T_a257f_row15_col6\" class=\"data row15 col6\" >0.1226</td>\n",
       "      <td id=\"T_a257f_row15_col7\" class=\"data row15 col7\" >0.4070</td>\n",
       "    </tr>\n",
       "    <tr>\n",
       "      <th id=\"T_a257f_level0_row16\" class=\"row_heading level0 row16\" >par</th>\n",
       "      <td id=\"T_a257f_row16_col0\" class=\"data row16 col0\" >Passive Aggressive Regressor</td>\n",
       "      <td id=\"T_a257f_row16_col1\" class=\"data row16 col1\" >47384.5440</td>\n",
       "      <td id=\"T_a257f_row16_col2\" class=\"data row16 col2\" >5183728616.0831</td>\n",
       "      <td id=\"T_a257f_row16_col3\" class=\"data row16 col3\" >68647.6501</td>\n",
       "      <td id=\"T_a257f_row16_col4\" class=\"data row16 col4\" >0.0430</td>\n",
       "      <td id=\"T_a257f_row16_col5\" class=\"data row16 col5\" >0.3319</td>\n",
       "      <td id=\"T_a257f_row16_col6\" class=\"data row16 col6\" >0.2849</td>\n",
       "      <td id=\"T_a257f_row16_col7\" class=\"data row16 col7\" >0.0960</td>\n",
       "    </tr>\n",
       "    <tr>\n",
       "      <th id=\"T_a257f_level0_row17\" class=\"row_heading level0 row17\" >dummy</th>\n",
       "      <td id=\"T_a257f_row17_col0\" class=\"data row17 col0\" >Dummy Regressor</td>\n",
       "      <td id=\"T_a257f_row17_col1\" class=\"data row17 col1\" >56661.1516</td>\n",
       "      <td id=\"T_a257f_row17_col2\" class=\"data row17 col2\" >6048876778.4784</td>\n",
       "      <td id=\"T_a257f_row17_col3\" class=\"data row17 col3\" >76976.4897</td>\n",
       "      <td id=\"T_a257f_row17_col4\" class=\"data row17 col4\" >-0.0141</td>\n",
       "      <td id=\"T_a257f_row17_col5\" class=\"data row17 col5\" >0.3956</td>\n",
       "      <td id=\"T_a257f_row17_col6\" class=\"data row17 col6\" >0.3518</td>\n",
       "      <td id=\"T_a257f_row17_col7\" class=\"data row17 col7\" >0.1950</td>\n",
       "    </tr>\n",
       "    <tr>\n",
       "      <th id=\"T_a257f_level0_row18\" class=\"row_heading level0 row18\" >lar</th>\n",
       "      <td id=\"T_a257f_row18_col0\" class=\"data row18 col0\" >Least Angle Regression</td>\n",
       "      <td id=\"T_a257f_row18_col1\" class=\"data row18 col1\" >6341937076866381774848.0000</td>\n",
       "      <td id=\"T_a257f_row18_col2\" class=\"data row18 col2\" >39644839386911149401985842680850075011201892352.0000</td>\n",
       "      <td id=\"T_a257f_row18_col3\" class=\"data row18 col3\" >64050423707458087157760.0000</td>\n",
       "      <td id=\"T_a257f_row18_col4\" class=\"data row18 col4\" >-9586232587635089715791886539798085632.0000</td>\n",
       "      <td id=\"T_a257f_row18_col5\" class=\"data row18 col5\" >12.4367</td>\n",
       "      <td id=\"T_a257f_row18_col6\" class=\"data row18 col6\" >40444879520743312.0000</td>\n",
       "      <td id=\"T_a257f_row18_col7\" class=\"data row18 col7\" >0.2700</td>\n",
       "    </tr>\n",
       "  </tbody>\n",
       "</table>\n"
      ],
      "text/plain": [
       "<pandas.io.formats.style.Styler at 0x7fa4bd8a7970>"
      ]
     },
     "metadata": {},
     "output_type": "display_data"
    },
    {
     "data": {
      "application/vnd.jupyter.widget-view+json": {
       "model_id": "1e410d676fc24699809b95b6a0203965",
       "version_major": 2,
       "version_minor": 0
      },
      "text/plain": [
       "Processing:   0%|          | 0/81 [00:00<?, ?it/s]"
      ]
     },
     "metadata": {
      "application/vnd.jupyter.widget-view+json": {
       "colab": {
        "custom_widget_manager": {
         "url": "https://ssl.gstatic.com/colaboratory-static/widgets/colab-cdn-widget-manager/b3e629b1971e1542/manager.min.js"
        }
       }
      }
     },
     "output_type": "display_data"
    },
    {
     "data": {
      "text/html": [],
      "text/plain": [
       "<IPython.core.display.HTML object>"
      ]
     },
     "metadata": {},
     "output_type": "display_data"
    },
    {
     "data": {
      "text/html": [
       "<style>#sk-container-id-1 {color: black;background-color: white;}#sk-container-id-1 pre{padding: 0;}#sk-container-id-1 div.sk-toggleable {background-color: white;}#sk-container-id-1 label.sk-toggleable__label {cursor: pointer;display: block;width: 100%;margin-bottom: 0;padding: 0.3em;box-sizing: border-box;text-align: center;}#sk-container-id-1 label.sk-toggleable__label-arrow:before {content: \"▸\";float: left;margin-right: 0.25em;color: #696969;}#sk-container-id-1 label.sk-toggleable__label-arrow:hover:before {color: black;}#sk-container-id-1 div.sk-estimator:hover label.sk-toggleable__label-arrow:before {color: black;}#sk-container-id-1 div.sk-toggleable__content {max-height: 0;max-width: 0;overflow: hidden;text-align: left;background-color: #f0f8ff;}#sk-container-id-1 div.sk-toggleable__content pre {margin: 0.2em;color: black;border-radius: 0.25em;background-color: #f0f8ff;}#sk-container-id-1 input.sk-toggleable__control:checked~div.sk-toggleable__content {max-height: 200px;max-width: 100%;overflow: auto;}#sk-container-id-1 input.sk-toggleable__control:checked~label.sk-toggleable__label-arrow:before {content: \"▾\";}#sk-container-id-1 div.sk-estimator input.sk-toggleable__control:checked~label.sk-toggleable__label {background-color: #d4ebff;}#sk-container-id-1 div.sk-label input.sk-toggleable__control:checked~label.sk-toggleable__label {background-color: #d4ebff;}#sk-container-id-1 input.sk-hidden--visually {border: 0;clip: rect(1px 1px 1px 1px);clip: rect(1px, 1px, 1px, 1px);height: 1px;margin: -1px;overflow: hidden;padding: 0;position: absolute;width: 1px;}#sk-container-id-1 div.sk-estimator {font-family: monospace;background-color: #f0f8ff;border: 1px dotted black;border-radius: 0.25em;box-sizing: border-box;margin-bottom: 0.5em;}#sk-container-id-1 div.sk-estimator:hover {background-color: #d4ebff;}#sk-container-id-1 div.sk-parallel-item::after {content: \"\";width: 100%;border-bottom: 1px solid gray;flex-grow: 1;}#sk-container-id-1 div.sk-label:hover label.sk-toggleable__label {background-color: #d4ebff;}#sk-container-id-1 div.sk-serial::before {content: \"\";position: absolute;border-left: 1px solid gray;box-sizing: border-box;top: 0;bottom: 0;left: 50%;z-index: 0;}#sk-container-id-1 div.sk-serial {display: flex;flex-direction: column;align-items: center;background-color: white;padding-right: 0.2em;padding-left: 0.2em;position: relative;}#sk-container-id-1 div.sk-item {position: relative;z-index: 1;}#sk-container-id-1 div.sk-parallel {display: flex;align-items: stretch;justify-content: center;background-color: white;position: relative;}#sk-container-id-1 div.sk-item::before, #sk-container-id-1 div.sk-parallel-item::before {content: \"\";position: absolute;border-left: 1px solid gray;box-sizing: border-box;top: 0;bottom: 0;left: 50%;z-index: -1;}#sk-container-id-1 div.sk-parallel-item {display: flex;flex-direction: column;z-index: 1;position: relative;background-color: white;}#sk-container-id-1 div.sk-parallel-item:first-child::after {align-self: flex-end;width: 50%;}#sk-container-id-1 div.sk-parallel-item:last-child::after {align-self: flex-start;width: 50%;}#sk-container-id-1 div.sk-parallel-item:only-child::after {width: 0;}#sk-container-id-1 div.sk-dashed-wrapped {border: 1px dashed gray;margin: 0 0.4em 0.5em 0.4em;box-sizing: border-box;padding-bottom: 0.4em;background-color: white;}#sk-container-id-1 div.sk-label label {font-family: monospace;font-weight: bold;display: inline-block;line-height: 1.2em;}#sk-container-id-1 div.sk-label-container {text-align: center;}#sk-container-id-1 div.sk-container {/* jupyter's `normalize.less` sets `[hidden] { display: none; }` but bootstrap.min.css set `[hidden] { display: none !important; }` so we also need the `!important` here to be able to override the default hidden behavior on the sphinx rendered scikit-learn.org. See: https://github.com/scikit-learn/scikit-learn/issues/21755 */display: inline-block !important;position: relative;}#sk-container-id-1 div.sk-text-repr-fallback {display: none;}</style><div id=\"sk-container-id-1\" class=\"sk-top-container\"><div class=\"sk-text-repr-fallback\"><pre>GradientBoostingRegressor(random_state=3822)</pre><b>In a Jupyter environment, please rerun this cell to show the HTML representation or trust the notebook. <br />On GitHub, the HTML representation is unable to render, please try loading this page with nbviewer.org.</b></div><div class=\"sk-container\" hidden><div class=\"sk-item\"><div class=\"sk-estimator sk-toggleable\"><input class=\"sk-toggleable__control sk-hidden--visually\" id=\"sk-estimator-id-1\" type=\"checkbox\" checked><label for=\"sk-estimator-id-1\" class=\"sk-toggleable__label sk-toggleable__label-arrow\">GradientBoostingRegressor</label><div class=\"sk-toggleable__content\"><pre>GradientBoostingRegressor(random_state=3822)</pre></div></div></div></div></div>"
      ],
      "text/plain": [
       "GradientBoostingRegressor(random_state=3822)"
      ]
     },
     "execution_count": 9,
     "metadata": {},
     "output_type": "execute_result"
    }
   ],
   "source": [
    "compare_models()"
   ]
  },
  {
   "cell_type": "code",
   "execution_count": null,
   "metadata": {
    "id": "Z3CUtioIyK5j"
   },
   "outputs": [],
   "source": []
  }
 ],
 "metadata": {
  "colab": {
   "provenance": []
  },
  "kernelspec": {
   "display_name": "Python 3 (ipykernel)",
   "language": "python",
   "name": "python3"
  },
  "language_info": {
   "codemirror_mode": {
    "name": "ipython",
    "version": 3
   },
   "file_extension": ".py",
   "mimetype": "text/x-python",
   "name": "python",
   "nbconvert_exporter": "python",
   "pygments_lexer": "ipython3",
   "version": "3.10.9"
  },
  "widgets": {
   "application/vnd.jupyter.widget-state+json": {
    "07873ec7623b4db69e3a2de9aef52e96": {
     "model_module": "@jupyter-widgets/controls",
     "model_module_version": "1.5.0",
     "model_name": "DescriptionStyleModel",
     "state": {
      "_model_module": "@jupyter-widgets/controls",
      "_model_module_version": "1.5.0",
      "_model_name": "DescriptionStyleModel",
      "_view_count": null,
      "_view_module": "@jupyter-widgets/base",
      "_view_module_version": "1.2.0",
      "_view_name": "StyleView",
      "description_width": ""
     }
    },
    "1e410d676fc24699809b95b6a0203965": {
     "model_module": "@jupyter-widgets/controls",
     "model_module_version": "1.5.0",
     "model_name": "HBoxModel",
     "state": {
      "_dom_classes": [],
      "_model_module": "@jupyter-widgets/controls",
      "_model_module_version": "1.5.0",
      "_model_name": "HBoxModel",
      "_view_count": null,
      "_view_module": "@jupyter-widgets/controls",
      "_view_module_version": "1.5.0",
      "_view_name": "HBoxView",
      "box_style": "",
      "children": [
       "IPY_MODEL_f8305d22f0b441e783c46e37c9041462",
       "IPY_MODEL_9ade394f851949429cbe4ac5305db6e3",
       "IPY_MODEL_7a53b1397eee490cbf2da4b788ad6d22"
      ],
      "layout": "IPY_MODEL_610caacaac484c27a1226500e99c3cef"
     }
    },
    "2244812d03df4920bc1198d9417ee266": {
     "model_module": "@jupyter-widgets/base",
     "model_module_version": "1.2.0",
     "model_name": "LayoutModel",
     "state": {
      "_model_module": "@jupyter-widgets/base",
      "_model_module_version": "1.2.0",
      "_model_name": "LayoutModel",
      "_view_count": null,
      "_view_module": "@jupyter-widgets/base",
      "_view_module_version": "1.2.0",
      "_view_name": "LayoutView",
      "align_content": null,
      "align_items": null,
      "align_self": null,
      "border": null,
      "bottom": null,
      "display": null,
      "flex": null,
      "flex_flow": null,
      "grid_area": null,
      "grid_auto_columns": null,
      "grid_auto_flow": null,
      "grid_auto_rows": null,
      "grid_column": null,
      "grid_gap": null,
      "grid_row": null,
      "grid_template_areas": null,
      "grid_template_columns": null,
      "grid_template_rows": null,
      "height": null,
      "justify_content": null,
      "justify_items": null,
      "left": null,
      "margin": null,
      "max_height": null,
      "max_width": null,
      "min_height": null,
      "min_width": null,
      "object_fit": null,
      "object_position": null,
      "order": null,
      "overflow": null,
      "overflow_x": null,
      "overflow_y": null,
      "padding": null,
      "right": null,
      "top": null,
      "visibility": null,
      "width": null
     }
    },
    "610caacaac484c27a1226500e99c3cef": {
     "model_module": "@jupyter-widgets/base",
     "model_module_version": "1.2.0",
     "model_name": "LayoutModel",
     "state": {
      "_model_module": "@jupyter-widgets/base",
      "_model_module_version": "1.2.0",
      "_model_name": "LayoutModel",
      "_view_count": null,
      "_view_module": "@jupyter-widgets/base",
      "_view_module_version": "1.2.0",
      "_view_name": "LayoutView",
      "align_content": null,
      "align_items": null,
      "align_self": null,
      "border": null,
      "bottom": null,
      "display": null,
      "flex": null,
      "flex_flow": null,
      "grid_area": null,
      "grid_auto_columns": null,
      "grid_auto_flow": null,
      "grid_auto_rows": null,
      "grid_column": null,
      "grid_gap": null,
      "grid_row": null,
      "grid_template_areas": null,
      "grid_template_columns": null,
      "grid_template_rows": null,
      "height": null,
      "justify_content": null,
      "justify_items": null,
      "left": null,
      "margin": null,
      "max_height": null,
      "max_width": null,
      "min_height": null,
      "min_width": null,
      "object_fit": null,
      "object_position": null,
      "order": null,
      "overflow": null,
      "overflow_x": null,
      "overflow_y": null,
      "padding": null,
      "right": null,
      "top": null,
      "visibility": "hidden",
      "width": null
     }
    },
    "7a53b1397eee490cbf2da4b788ad6d22": {
     "model_module": "@jupyter-widgets/controls",
     "model_module_version": "1.5.0",
     "model_name": "HTMLModel",
     "state": {
      "_dom_classes": [],
      "_model_module": "@jupyter-widgets/controls",
      "_model_module_version": "1.5.0",
      "_model_name": "HTMLModel",
      "_view_count": null,
      "_view_module": "@jupyter-widgets/controls",
      "_view_module_version": "1.5.0",
      "_view_name": "HTMLView",
      "description": "",
      "description_tooltip": null,
      "layout": "IPY_MODEL_2244812d03df4920bc1198d9417ee266",
      "placeholder": "​",
      "style": "IPY_MODEL_07873ec7623b4db69e3a2de9aef52e96",
      "value": " 81/81 [02:03&lt;00:00,  1.09s/it]"
     }
    },
    "7f9fb72db26e4e1b9b2835462c2225df": {
     "model_module": "@jupyter-widgets/base",
     "model_module_version": "1.2.0",
     "model_name": "LayoutModel",
     "state": {
      "_model_module": "@jupyter-widgets/base",
      "_model_module_version": "1.2.0",
      "_model_name": "LayoutModel",
      "_view_count": null,
      "_view_module": "@jupyter-widgets/base",
      "_view_module_version": "1.2.0",
      "_view_name": "LayoutView",
      "align_content": null,
      "align_items": null,
      "align_self": null,
      "border": null,
      "bottom": null,
      "display": null,
      "flex": null,
      "flex_flow": null,
      "grid_area": null,
      "grid_auto_columns": null,
      "grid_auto_flow": null,
      "grid_auto_rows": null,
      "grid_column": null,
      "grid_gap": null,
      "grid_row": null,
      "grid_template_areas": null,
      "grid_template_columns": null,
      "grid_template_rows": null,
      "height": null,
      "justify_content": null,
      "justify_items": null,
      "left": null,
      "margin": null,
      "max_height": null,
      "max_width": null,
      "min_height": null,
      "min_width": null,
      "object_fit": null,
      "object_position": null,
      "order": null,
      "overflow": null,
      "overflow_x": null,
      "overflow_y": null,
      "padding": null,
      "right": null,
      "top": null,
      "visibility": null,
      "width": null
     }
    },
    "979621d5346f413e87992cb7af461c92": {
     "model_module": "@jupyter-widgets/base",
     "model_module_version": "1.2.0",
     "model_name": "LayoutModel",
     "state": {
      "_model_module": "@jupyter-widgets/base",
      "_model_module_version": "1.2.0",
      "_model_name": "LayoutModel",
      "_view_count": null,
      "_view_module": "@jupyter-widgets/base",
      "_view_module_version": "1.2.0",
      "_view_name": "LayoutView",
      "align_content": null,
      "align_items": null,
      "align_self": null,
      "border": null,
      "bottom": null,
      "display": null,
      "flex": null,
      "flex_flow": null,
      "grid_area": null,
      "grid_auto_columns": null,
      "grid_auto_flow": null,
      "grid_auto_rows": null,
      "grid_column": null,
      "grid_gap": null,
      "grid_row": null,
      "grid_template_areas": null,
      "grid_template_columns": null,
      "grid_template_rows": null,
      "height": null,
      "justify_content": null,
      "justify_items": null,
      "left": null,
      "margin": null,
      "max_height": null,
      "max_width": null,
      "min_height": null,
      "min_width": null,
      "object_fit": null,
      "object_position": null,
      "order": null,
      "overflow": null,
      "overflow_x": null,
      "overflow_y": null,
      "padding": null,
      "right": null,
      "top": null,
      "visibility": null,
      "width": null
     }
    },
    "9a2e8d24ff4242969c51ceb2e1a98f7a": {
     "model_module": "@jupyter-widgets/controls",
     "model_module_version": "1.5.0",
     "model_name": "DescriptionStyleModel",
     "state": {
      "_model_module": "@jupyter-widgets/controls",
      "_model_module_version": "1.5.0",
      "_model_name": "DescriptionStyleModel",
      "_view_count": null,
      "_view_module": "@jupyter-widgets/base",
      "_view_module_version": "1.2.0",
      "_view_name": "StyleView",
      "description_width": ""
     }
    },
    "9ade394f851949429cbe4ac5305db6e3": {
     "model_module": "@jupyter-widgets/controls",
     "model_module_version": "1.5.0",
     "model_name": "FloatProgressModel",
     "state": {
      "_dom_classes": [],
      "_model_module": "@jupyter-widgets/controls",
      "_model_module_version": "1.5.0",
      "_model_name": "FloatProgressModel",
      "_view_count": null,
      "_view_module": "@jupyter-widgets/controls",
      "_view_module_version": "1.5.0",
      "_view_name": "ProgressView",
      "bar_style": "",
      "description": "",
      "description_tooltip": null,
      "layout": "IPY_MODEL_979621d5346f413e87992cb7af461c92",
      "max": 81,
      "min": 0,
      "orientation": "horizontal",
      "style": "IPY_MODEL_cfd2a33d41794cbd92505044e698ff57",
      "value": 81
     }
    },
    "cfd2a33d41794cbd92505044e698ff57": {
     "model_module": "@jupyter-widgets/controls",
     "model_module_version": "1.5.0",
     "model_name": "ProgressStyleModel",
     "state": {
      "_model_module": "@jupyter-widgets/controls",
      "_model_module_version": "1.5.0",
      "_model_name": "ProgressStyleModel",
      "_view_count": null,
      "_view_module": "@jupyter-widgets/base",
      "_view_module_version": "1.2.0",
      "_view_name": "StyleView",
      "bar_color": null,
      "description_width": ""
     }
    },
    "f8305d22f0b441e783c46e37c9041462": {
     "model_module": "@jupyter-widgets/controls",
     "model_module_version": "1.5.0",
     "model_name": "HTMLModel",
     "state": {
      "_dom_classes": [],
      "_model_module": "@jupyter-widgets/controls",
      "_model_module_version": "1.5.0",
      "_model_name": "HTMLModel",
      "_view_count": null,
      "_view_module": "@jupyter-widgets/controls",
      "_view_module_version": "1.5.0",
      "_view_name": "HTMLView",
      "description": "",
      "description_tooltip": null,
      "layout": "IPY_MODEL_7f9fb72db26e4e1b9b2835462c2225df",
      "placeholder": "​",
      "style": "IPY_MODEL_9a2e8d24ff4242969c51ceb2e1a98f7a",
      "value": "Processing: 100%"
     }
    }
   }
  }
 },
 "nbformat": 4,
 "nbformat_minor": 1
}
